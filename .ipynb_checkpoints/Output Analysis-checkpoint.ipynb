{
 "metadata": {
  "name": "",
  "signature": "sha256:0b0baf66b454cff3c390f457c10f9b2aa48bf95cd7cdce89de6db5cbd52025f4"
 },
 "nbformat": 3,
 "nbformat_minor": 0,
 "worksheets": []
}